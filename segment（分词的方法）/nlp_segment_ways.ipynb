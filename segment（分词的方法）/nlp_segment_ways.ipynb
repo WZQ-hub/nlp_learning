{
 "cells": [
  {
   "cell_type": "code",
   "execution_count": 1,
   "id": "75cbc575",
   "metadata": {},
   "outputs": [],
   "source": [
    "import xlrd"
   ]
  },
  {
   "cell_type": "code",
   "execution_count": 6,
   "id": "7cd0df02",
   "metadata": {},
   "outputs": [],
   "source": [
    "dic_words = []"
   ]
  },
  {
   "cell_type": "code",
   "execution_count": 4,
   "id": "a434de1a",
   "metadata": {},
   "outputs": [],
   "source": [
    "workbook = xlrd.open_workbook(\"data.xlsx\")\n",
    "data = workbook.sheet_by_name(\"Sheet1\")    \n",
    "rows = data.get_rows()          #获取总的行数"
   ]
  },
  {
   "cell_type": "code",
   "execution_count": 7,
   "id": "110c8084",
   "metadata": {},
   "outputs": [
    {
     "name": "stdout",
     "output_type": "stream",
     "text": [
      "len:298031\n"
     ]
    }
   ],
   "source": [
    "for row in rows:\n",
    "    dic_words.append(row[0].value)     #将每个词加入数组中\n",
    "print(\"len:\" + str(len(dic_words)))"
   ]
  },
  {
   "cell_type": "code",
   "execution_count": 8,
   "id": "8a73d1fe",
   "metadata": {},
   "outputs": [
    {
     "data": {
      "text/plain": [
       "'做做饭'"
      ]
     },
     "execution_count": 8,
     "metadata": {},
     "output_type": "execute_result"
    }
   ],
   "source": [
    "dic_words[1]"
   ]
  },
  {
   "cell_type": "code",
   "execution_count": 9,
   "id": "9bbd3b2c",
   "metadata": {},
   "outputs": [],
   "source": [
    "def fully_segment(text,dic):\n",
    "    word_list = []\n",
    "    for i in range(len(text)):\n",
    "        for j in range(i+1,len(text)+1):\n",
    "            word = text[i:j]\n",
    "            if word in dic:\n",
    "                word_list.append(word)\n",
    "    return word_list\n",
    "\n",
    "#在不考虑效率的情况下最简单的分词方式"
   ]
  },
  {
   "cell_type": "code",
   "execution_count": 10,
   "id": "ee552805",
   "metadata": {},
   "outputs": [
    {
     "data": {
      "text/plain": [
       "['我', '想', '出', '出去', '去', '玩', '呀']"
      ]
     },
     "execution_count": 10,
     "metadata": {},
     "output_type": "execute_result"
    }
   ],
   "source": [
    "fully_segment(\"我想出去玩呀\",dic_words)"
   ]
  },
  {
   "cell_type": "code",
   "execution_count": 18,
   "id": "09774301",
   "metadata": {},
   "outputs": [],
   "source": [
    "def forward_segment(text,dic):\n",
    "    word_list = []\n",
    "    i = 0\n",
    "    while i<len(text):\n",
    "        longest_word = text[i]      #最大向前分词的起始位置\n",
    "        for j in range(i+1,len(text)+1):   #从起始位置开始遍历到text的末尾\n",
    "            word = text[i:j]\n",
    "            if word in dic:\n",
    "                if len(word)>len(longest_word):\n",
    "                    longest_word = word\n",
    "        i += len(longest_word)     #去除已经分好的词之后再继续进行分词\n",
    "        word_list.append(longest_word)\n",
    "    return word_list\n",
    "#分词的优先级是按照词组的长度来划分的，词组长度约长，优先级越高"
   ]
  },
  {
   "cell_type": "code",
   "execution_count": 26,
   "id": "6dfc5012",
   "metadata": {},
   "outputs": [
    {
     "data": {
      "text/plain": [
       "['我', '想', '出去', '玩', '呀']"
      ]
     },
     "execution_count": 26,
     "metadata": {},
     "output_type": "execute_result"
    }
   ],
   "source": [
    "forward_segment(\"我想出去玩呀\",dic_words)"
   ]
  },
  {
   "cell_type": "markdown",
   "id": "09cab802",
   "metadata": {},
   "source": [
    "###逆向最大分词###\n",
    "是为了解决“研究生命起源”这种分词问题的，使用最大向前分次的结果为：“研究生”“命”“起源”，而这种分词结果与我们正常的生活中的分词概念不一样"
   ]
  },
  {
   "cell_type": "code",
   "execution_count": 22,
   "id": "91d61d2b",
   "metadata": {},
   "outputs": [],
   "source": [
    "def backward_segment(text,dic):\n",
    "    word_list = []\n",
    "    i = len(text) - 1        #以句子的终点为起点进行分词\n",
    "    while i>=0:\n",
    "        longest_word = text[i]\n",
    "        for j in range(0,i):\n",
    "            word = text[j:i+1]     #匹配长度最大的词\n",
    "            if word in dic:\n",
    "                if len(word)>len(longest_word):\n",
    "                    longest_word = word\n",
    "        i -= len(longest_word)\n",
    "        word_list.insert(0,longest_word)     #因为是最大逆向分词，所以先分出来的词应该在最后面\n",
    "    return word_list"
   ]
  },
  {
   "cell_type": "code",
   "execution_count": 34,
   "id": "d977ec3f",
   "metadata": {},
   "outputs": [
    {
     "data": {
      "text/plain": [
       "['我', '想', '出去', '玩', '呀']"
      ]
     },
     "execution_count": 34,
     "metadata": {},
     "output_type": "execute_result"
    }
   ],
   "source": [
    "backward_segment(\"我想出去玩呀\",dic_words)"
   ]
  },
  {
   "cell_type": "code",
   "execution_count": 36,
   "id": "6a854a68",
   "metadata": {},
   "outputs": [],
   "source": [
    "#统计单个词的出现次数\n",
    "def count_single_char(word_list:list):\n",
    "    return sum(1 for word in word_list if len(word)==1)"
   ]
  },
  {
   "cell_type": "code",
   "execution_count": 37,
   "id": "8a33530d",
   "metadata": {},
   "outputs": [],
   "source": [
    "#双向最长匹配：1.同时执行正向和逆向匹配，若两者词数不同，则返回词数较少的那一个结果；2.否则，返回两者中单字数量更少的那一个。当两者单字数\n",
    "#量一样时，优先返回逆向最长匹配的结果\n",
    "def bidirectional_segment(text,dic):\n",
    "    f = forward_segment(text,dic)\n",
    "    b = backward_segment(text,dic)\n",
    "    if(len(f)<len(b)):\n",
    "        return f\n",
    "    elif(len(f)>len(b)):\n",
    "        return b\n",
    "    else:\n",
    "        if(count_single_char(f)<count_single_char(b)):\n",
    "            return f\n",
    "        else:\n",
    "            return b"
   ]
  },
  {
   "cell_type": "code",
   "execution_count": 39,
   "id": "c0b1fcf9",
   "metadata": {},
   "outputs": [
    {
     "name": "stdout",
     "output_type": "stream",
     "text": [
      "['研究生', '命', '的', '起源']\n",
      "['研究', '生命', '的', '起源']\n",
      "['研究', '生命', '的', '起源']\n"
     ]
    }
   ],
   "source": [
    "print(forward_segment(\"研究生命的起源\",dic_words))\n",
    "print(backward_segment(\"研究生命的起源\",dic_words))\n",
    "print(bidirectional_segment(\"研究生命的起源\",dic_words))"
   ]
  }
 ],
 "metadata": {
  "kernelspec": {
   "display_name": "Python [conda env:ml] *",
   "language": "python",
   "name": "conda-env-ml-py"
  },
  "language_info": {
   "codemirror_mode": {
    "name": "ipython",
    "version": 3
   },
   "file_extension": ".py",
   "mimetype": "text/x-python",
   "name": "python",
   "nbconvert_exporter": "python",
   "pygments_lexer": "ipython3",
   "version": "3.7.0"
  }
 },
 "nbformat": 4,
 "nbformat_minor": 5
}
